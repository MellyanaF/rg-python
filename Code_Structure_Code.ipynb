{
  "nbformat": 4,
  "nbformat_minor": 0,
  "metadata": {
    "colab": {
      "name": "Code Structure Code",
      "provenance": []
    },
    "kernelspec": {
      "name": "python3",
      "display_name": "Python 3"
    },
    "language_info": {
      "name": "python"
    }
  },
  "cells": [
    {
      "cell_type": "code",
      "source": [
        "# Indentation block\n",
        "\n",
        "umur = 19\n",
        "\n",
        "if umur < 17:\n",
        "  print ('remaja')\n",
        "else:\n",
        "  print ('dewasa')"
      ],
      "metadata": {
        "id": "Hi90ENHxTz23",
        "colab": {
          "base_uri": "https://localhost:8080/"
        },
        "outputId": "ce67745b-1ac5-4f60-ebea-014d3e2407cf"
      },
      "execution_count": 4,
      "outputs": [
        {
          "output_type": "stream",
          "name": "stdout",
          "text": [
            "dewasa\n"
          ]
        }
      ]
    },
    {
      "cell_type": "code",
      "source": [
        "# buat variabel menggunakan function input berat paket\n",
        "# tpe data menggunakan float karena bersifat continous\n",
        "\n",
        "berat_paket = float (input('Masukan nilai berat: '))\n",
        "\n",
        "#Rules\n",
        "if berat_paket > 120:\n",
        "  print ('Paket tidak dapat dikirim dikarenakan melebihi standar 120kg')\n",
        "\n",
        "elif berat_paket >= 50:\n",
        "  price = 13\n",
        "  charge = 500\n",
        "  print ('Paket melebih standar,', str(berat_paket) + 'kg >= 50kg, dan dikenai charge 500ribu')\n",
        "  print ('Total biaya: ', str(price*berat_paket+charge) +'ribu')\n",
        "\n",
        "else:\n",
        "  price = 13\n",
        "  print ('Paket diterima dengan berat', str(berat_paket) + 'kg dan biaya yang dikenakan sebesar ' + str(price*berat_paket) + 'ribu')\n",
        "  "
      ],
      "metadata": {
        "colab": {
          "base_uri": "https://localhost:8080/"
        },
        "id": "l4qqbsT_R0of",
        "outputId": "ebdf3495-bc39-41f7-b566-e157c9cb20fb"
      },
      "execution_count": 12,
      "outputs": [
        {
          "output_type": "stream",
          "name": "stdout",
          "text": [
            "Masukan nilai berat: 50\n",
            "Paket melebih standar, 50.0kg >= 50kg, dan dikenai charge 500ribu\n",
            "Total biaya:  1150.0ribu\n"
          ]
        }
      ]
    },
    {
      "cell_type": "code",
      "source": [
        "# Membuat variabel grade\n",
        "staf = 1\n",
        "head = 2\n",
        "dept_head = 3\n",
        "\n",
        "# Membuat variabel dengan metode input()\n",
        "grade_input = int (input('Grade: '))\n",
        "masa_kerja_input = float (input('Masa Kerja: '))\n",
        "\n",
        "# Buat rulesnya\n",
        "if grade_input == staf:\n",
        "  if masa_kerja_input <=2:\n",
        "    salary = 3.5\n",
        "    print ('Salary yang diberikan untuk grade', grade_input, 'dengan masa kerja selama', str(masa_kerja_input), 'th adalah', str(salary) + 'juta')\n",
        "  else:\n",
        "    salary = 4\n",
        "    print ('Salary yang diberikan untuk grade', grade_input, 'dengan masa kerja selama', str(masa_kerja_input), 'th adalah', str(salary) + 'juta')\n",
        "\n",
        "elif grade_input == head:\n",
        "  if masa_kerja_input <=3:\n",
        "    salary = 4.5\n",
        "    print ('Salary yang diberikan untuk grade', grade_input, 'dengan masa kerja selama', str(masa_kerja_input), 'th adalah', str(salary) + 'juta')\n",
        "  else:\n",
        "    salary = 5\n",
        "    print ('Salary yang diberikan untuk grade', grade_input, 'dengan masa kerja selama', str(masa_kerja_input), 'th adalah', str(salary) + 'juta')\n",
        "\n",
        "else:\n",
        "  if masa_kerja_input <=5:\n",
        "    salary = 10\n",
        "    print ('Salary yang diberikan untuk grade', grade_input, 'dengan masa kerja selama', str(masa_kerja_input), 'th adalah', str(salary) + 'juta')\n",
        "  else:\n",
        "    salary = 15\n",
        "    print ('Salary yang diberikan untuk grade', grade_input, 'dengan masa kerja selama', str(masa_kerja_input), 'th adalah', str(salary) + 'juta')"
      ],
      "metadata": {
        "colab": {
          "base_uri": "https://localhost:8080/"
        },
        "id": "8J_jhfYmWOZl",
        "outputId": "566c18ec-c123-472b-8bb6-d7a3f1c56f4e"
      },
      "execution_count": 13,
      "outputs": [
        {
          "output_type": "stream",
          "name": "stdout",
          "text": [
            "Grade: 3\n",
            "Masa Kerja: 25\n",
            "Salary yang diberikan untuk grade 3 dengan masa kerja selama 25.0 th adalah 15juta\n"
          ]
        }
      ]
    }
  ]
}